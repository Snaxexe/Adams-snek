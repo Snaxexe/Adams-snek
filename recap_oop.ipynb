{
 "cells": [
  {
   "cell_type": "markdown",
   "metadata": {},
   "source": [
    "# Python Basics\n",
    "1. Variabel => Dog\n",
    "2. Värde => \"Leo\"\n",
    "3. Typ => str\n"
   ]
  },
  {
   "cell_type": "code",
   "execution_count": 1,
   "metadata": {},
   "outputs": [
    {
     "name": "stdout",
     "output_type": "stream",
     "text": [
      "Leo\n"
     ]
    },
    {
     "data": {
      "text/plain": [
       "str"
      ]
     },
     "execution_count": 1,
     "metadata": {},
     "output_type": "execute_result"
    }
   ],
   "source": [
    "# 1.\n",
    "Dog = \"Leo\"\n",
    "\n",
    "# 2.\n",
    "print(Dog)\n",
    "\n",
    "# 3.\n",
    "type(Dog)\n"
   ]
  },
  {
   "cell_type": "markdown",
   "metadata": {},
   "source": [
    "#Funktion\n",
    "\n",
    "1. inbyggda funktioner\n",
    "\n",
    "2. användardefinerade funktioner\n",
    "\n"
   ]
  },
  {
   "cell_type": "code",
   "execution_count": 2,
   "metadata": {},
   "outputs": [
    {
     "name": "stdout",
     "output_type": "stream",
     "text": [
      "Print är en inbyggd funktion\n",
      "10\n"
     ]
    }
   ],
   "source": [
    "# 1.\n",
    "\n",
    "print(\"Print är en inbyggd funktion\")\n",
    "\n",
    "\n",
    "# 2.\n",
    "\n",
    "def init(arg):\n",
    "    return arg\n",
    "\n",
    "print(init(10))"
   ]
  },
  {
   "cell_type": "markdown",
   "metadata": {},
   "source": [
    "# Vilkorssatser\n",
    "\n",
    "1. If-else\n",
    "\n",
    "2. match-case\n",
    "\n"
   ]
  },
  {
   "cell_type": "code",
   "execution_count": null,
   "metadata": {},
   "outputs": [],
   "source": [
    "# 1.\n",
    "\n",
    "def if_else(arg):\n",
    "\n",
    "    if arg > 10:\n",
    "        print(\"argumenten är större än 10\")\n",
    "    elif arg > 20:\n",
    "        print(\"argumenten är större än 20\")\n",
    "    else:\n",
    "        print(\"argumenten är mindre än 11\")\n",
    "\n",
    "\n",
    "# 2.\n",
    "\n",
    "def controll(clicked):\n",
    "    match clicked:\n",
    "        case \"A\":\n",
    "            print(\"Button A pressed\")\n",
    "        case \"B\":\n",
    "            print(\"Button B pressed\")\n",
    "        case \"X\":\n",
    "            print(\"Button X pressed\")\n",
    "        case \"Y\":\n",
    "            print(\"Button Y pressed\")\n",
    "\n",
    "\n",
    "\n",
    "user_input_1 = int(input(\"skriv en siffra: \"))\n",
    "result_1 = if_else(user_input_1)\n",
    "print(result_1)\n",
    "\n",
    "\n",
    "user_input_2 = input(\"Options; A, B, X, Y\")"
   ]
  }
 ],
 "metadata": {
  "kernelspec": {
   "display_name": "Python 3",
   "language": "python",
   "name": "python3"
  },
  "language_info": {
   "codemirror_mode": {
    "name": "ipython",
    "version": 3
   },
   "file_extension": ".py",
   "mimetype": "text/x-python",
   "name": "python",
   "nbconvert_exporter": "python",
   "pygments_lexer": "ipython3",
   "version": "3.10.8"
  }
 },
 "nbformat": 4,
 "nbformat_minor": 2
}
